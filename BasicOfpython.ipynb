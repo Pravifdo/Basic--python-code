{
 "cells": [
  {
   "cell_type": "code",
   "execution_count": 1,
   "id": "2b14ab1d-3fa2-44ba-a351-086fbf620a36",
   "metadata": {},
   "outputs": [
    {
     "name": "stdout",
     "output_type": "stream",
     "text": [
      "praveen\n"
     ]
    }
   ],
   "source": [
    "print(\"praveen\")"
   ]
  },
  {
   "cell_type": "code",
   "execution_count": 2,
   "id": "95399ff1-19f4-4bc2-9e18-3abae2ea138e",
   "metadata": {},
   "outputs": [
    {
     "name": "stdout",
     "output_type": "stream",
     "text": [
      "6\n"
     ]
    }
   ],
   "source": [
    "print(3+3)"
   ]
  },
  {
   "cell_type": "code",
   "execution_count": 4,
   "id": "f87e7a13-e668-41e0-99ec-eba5a8399296",
   "metadata": {},
   "outputs": [
    {
     "name": "stdout",
     "output_type": "stream",
     "text": [
      " efrh\n"
     ]
    },
    {
     "name": "stdout",
     "output_type": "stream",
     "text": [
      "x: efrh\n"
     ]
    }
   ],
   "source": [
    "x = input()\n",
    "print(\"x:\", x)"
   ]
  },
  {
   "cell_type": "code",
   "execution_count": 5,
   "id": "6ebea7a7-de90-4580-a298-0c155da45c98",
   "metadata": {},
   "outputs": [
    {
     "name": "stdout",
     "output_type": "stream",
     "text": [
      "Enter the valuer of number: 5\n"
     ]
    },
    {
     "name": "stdout",
     "output_type": "stream",
     "text": [
      "x: 5\n"
     ]
    }
   ],
   "source": [
    "x = input(\"Enter the valuer of number:\")\n",
    "print(\"x:\" ,x)"
   ]
  },
  {
   "cell_type": "code",
   "execution_count": 10,
   "id": "c80ee2e3-966e-455a-b37a-9cf11ff731ed",
   "metadata": {},
   "outputs": [
    {
     "name": "stdout",
     "output_type": "stream",
     "text": [
      "x 5\n",
      "y 5\n"
     ]
    },
    {
     "name": "stdout",
     "output_type": "stream",
     "text": [
      "x+y = 10\n"
     ]
    }
   ],
   "source": [
    "x =input(\"x\")\n",
    "y =input(\"y\")\n",
    "x =int(x)\n",
    "y =int(y)\n",
    "print(\"x+y =\",x+y)"
   ]
  },
  {
   "cell_type": "code",
   "execution_count": 8,
   "id": "a62f11bc-270a-4486-bf05-6d9ce3ab2783",
   "metadata": {},
   "outputs": [
    {
     "name": "stdout",
     "output_type": "stream",
     "text": [
      "Enter the number of x : 1.2\n",
      "Enter the number of y : 2\n"
     ]
    },
    {
     "name": "stdout",
     "output_type": "stream",
     "text": [
      "colection x+y 3.2\n"
     ]
    }
   ],
   "source": [
    "x = input(\"Enter the number of x :\")\n",
    "y = input (\"Enter the number of y :\")\n",
    "\n",
    "x =float(x)\n",
    "y =float(y)\n",
    "\n",
    "print(\"colection x+y =\",x+y)"
   ]
  },
  {
   "cell_type": "code",
   "execution_count": 11,
   "id": "5e59c230-59f1-4836-898e-46735159e3b9",
   "metadata": {},
   "outputs": [
    {
     "name": "stdout",
     "output_type": "stream",
     "text": [
      "Enter the number of x : 5\n",
      "Enter the number of y : 1.02\n"
     ]
    },
    {
     "name": "stdout",
     "output_type": "stream",
     "text": [
      "colection x+y = 6.02\n"
     ]
    }
   ],
   "source": [
    "x = input(\"Enter the number of x :\")\n",
    "y = input (\"Enter the number of y :\")\n",
    "\n",
    "x =eval(x)\n",
    "y =eval(y)\n",
    "\n",
    "print(\"colection x+y =\",x+y)"
   ]
  },
  {
   "cell_type": "code",
   "execution_count": 12,
   "id": "f3117514-f74e-4fb0-beb4-1dc612f0cbe9",
   "metadata": {},
   "outputs": [
    {
     "name": "stdout",
     "output_type": "stream",
     "text": [
      "Enter the number of x : 4.2\n",
      "Enter the number of y : 3.0\n"
     ]
    },
    {
     "name": "stdout",
     "output_type": "stream",
     "text": [
      "colection x+y = 7.2\n"
     ]
    }
   ],
   "source": [
    "x = eval(input(\"Enter the number of x :\"))\n",
    "y = eval(input (\"Enter the number of y :\"))\n",
    "\n",
    "print(\"colection x+y =\",x+y)"
   ]
  },
  {
   "cell_type": "code",
   "execution_count": 13,
   "id": "e96e4da1-6504-48ce-9c30-9feeb816f323",
   "metadata": {},
   "outputs": [
    {
     "name": "stdout",
     "output_type": "stream",
     "text": [
      "basic calalution\n"
     ]
    }
   ],
   "source": [
    "print (\"basic calalution\")"
   ]
  },
  {
   "cell_type": "code",
   "execution_count": null,
   "id": "fdd50f8e-3c35-49f9-bc23-d1b7414ba62c",
   "metadata": {},
   "outputs": [
    {
     "name": "stdout",
     "output_type": "stream",
     "text": [
      "Enter the value 1 : 8\n",
      "Enter the value 2:  2\n"
     ]
    },
    {
     "name": "stdout",
     "output_type": "stream",
     "text": [
      "valu1 + valu2 10\n",
      "valu1 - valu2 6\n",
      "valu1 / valu2 4.0\n",
      "valu1 * valu2 16\n"
     ]
    }
   ],
   "source": [
    "valu1=eval(input(\"Enter the value 1 :\"))\n",
    "valu2=eval(input(\"Enter the value 2: \"))\n",
    "print(\"valu1 + valu2\",valu1 + valu2)\n",
    "print(\"valu1 - valu2\",valu1 - valu2)\n",
    "print(\"valu1 / valu2\",valu1 / valu2)\n",
    "print(\"valu1 * valu2\",valu1 * valu2)\n"
   ]
  },
  {
   "cell_type": "code",
   "execution_count": 1,
   "id": "4920e991-46da-4317-89f7-adcf7b1edc78",
   "metadata": {},
   "outputs": [
    {
     "name": "stdout",
     "output_type": "stream",
     "text": [
      "['physics', 'chmistry', 1997, 200]\n"
     ]
    }
   ],
   "source": [
    "mylist = [\"physics\",\"chmistry\",1997,200]\n",
    "print(mylist)"
   ]
  },
  {
   "cell_type": "code",
   "execution_count": 3,
   "id": "b0f22eab-178e-42e6-a97e-38840152d103",
   "metadata": {},
   "outputs": [
    {
     "name": "stdout",
     "output_type": "stream",
     "text": [
      "['physics', 'chmistry', 2001, 2001]\n"
     ]
    }
   ],
   "source": [
    "mylist[3] = 2001\n",
    "print(mylist)"
   ]
  },
  {
   "cell_type": "code",
   "execution_count": 4,
   "id": "5d55f76d-965b-4929-b450-23a562ca596f",
   "metadata": {},
   "outputs": [
    {
     "name": "stdout",
     "output_type": "stream",
     "text": [
      "4\n"
     ]
    }
   ],
   "source": [
    "x = len(mylist)\n",
    "print(x)"
   ]
  },
  {
   "cell_type": "code",
   "execution_count": 6,
   "id": "47a3797a-d673-489f-afc8-a311764b3f93",
   "metadata": {},
   "outputs": [
    {
     "name": "stdout",
     "output_type": "stream",
     "text": [
      "python\n",
      "400\n"
     ]
    }
   ],
   "source": [
    "list1 =['c++','java','python']\n",
    "list2 =[200,300,400]\n",
    "print(max(list1))\n",
    "print(max(list2))"
   ]
  },
  {
   "cell_type": "code",
   "execution_count": 9,
   "id": "016a0b6d-cd2f-4e78-ba55-cfc71ebe944f",
   "metadata": {},
   "outputs": [
    {
     "name": "stdin",
     "output_type": "stream",
     "text": [
      "Enter amount 200\n"
     ]
    },
    {
     "name": "stdout",
     "output_type": "stream",
     "text": [
      "Discount 10.0\n",
      "Net payable: 190.0\n"
     ]
    }
   ],
   "source": [
    "amout = eval(input(\"Enter amount\"))\n",
    "\n",
    "if amout<1000:\n",
    "    discount = amout * 0.05\n",
    "    print(\"Discount\",discount)\n",
    "else:\n",
    "    discount = amout *0.10\n",
    "    print(\"Discount\",discount)\n",
    "print(\"Net payable:\",amout-discount)"
   ]
  },
  {
   "cell_type": "code",
   "execution_count": 10,
   "id": "8fe9fa33-ebde-403d-b543-768d7bab60d6",
   "metadata": {},
   "outputs": [
    {
     "name": "stdout",
     "output_type": "stream",
     "text": [
      "This python 0\n",
      "This python 1\n",
      "This python 2\n",
      "This python 3\n",
      "This python 4\n",
      "This python 5\n",
      "This python 6\n",
      "This python 7\n",
      "This python 8\n",
      "This python 9\n"
     ]
    }
   ],
   "source": [
    "for i in range(0,10,1):\n",
    "    print(\"This python\",i)"
   ]
  },
  {
   "cell_type": "code",
   "execution_count": 12,
   "id": "9aebd397-abf0-4b49-b17d-bd0578e8c319",
   "metadata": {},
   "outputs": [
    {
     "name": "stdout",
     "output_type": "stream",
     "text": [
      "this python 10\n",
      "this python 8\n",
      "this python 6\n",
      "this python 4\n",
      "this python 2\n"
     ]
    }
   ],
   "source": [
    "for i in range(10,0,-2):\n",
    "    print(\"this python\",i)"
   ]
  },
  {
   "cell_type": "code",
   "execution_count": 13,
   "id": "7fcc5dbf-63ff-42eb-9fba-b5684bb2b806",
   "metadata": {},
   "outputs": [
    {
     "name": "stdout",
     "output_type": "stream",
     "text": [
      "0\n",
      "1\n",
      "2\n",
      "3\n",
      "4\n"
     ]
    }
   ],
   "source": [
    "myList = [1,3,23,45,54]\n",
    "\n",
    "for i in range(len(myList)):\n",
    "    print(i)"
   ]
  },
  {
   "cell_type": "code",
   "execution_count": 14,
   "id": "5e65ca92-f78e-4589-9038-6bc1f5375d55",
   "metadata": {},
   "outputs": [
    {
     "name": "stdout",
     "output_type": "stream",
     "text": [
      "0 21\n",
      "1 43\n",
      "2 2\n",
      "3 55\n",
      "4 64\n"
     ]
    }
   ],
   "source": [
    "myList =[21,43,2,55,64]\n",
    "\n",
    "for i in range(len(myList)):\n",
    "    print(i,myList[i])"
   ]
  },
  {
   "cell_type": "code",
   "execution_count": 15,
   "id": "64e6bb9a-a629-451c-a4f7-bd0ed63f0bb3",
   "metadata": {},
   "outputs": [
    {
     "name": "stdout",
     "output_type": "stream",
     "text": [
      "[0, 1, 2, 3, 4, 5, 6, 7, 8, 9]\n"
     ]
    }
   ],
   "source": [
    "myList =[i for i in range(10)]\n",
    "print(myList)"
   ]
  },
  {
   "cell_type": "code",
   "execution_count": 16,
   "id": "0cb7b49a-7df2-4e23-996c-2e28889831ad",
   "metadata": {},
   "outputs": [
    {
     "name": "stdout",
     "output_type": "stream",
     "text": [
      "[0, 0, 0, 0, 0, 0, 0, 0, 0, 0]\n"
     ]
    }
   ],
   "source": [
    "myList = [0 for i in range(10)]\n",
    "print(myList)"
   ]
  },
  {
   "cell_type": "code",
   "execution_count": 17,
   "id": "c6101697-8cc1-4b29-aa47-bce414acdbfc",
   "metadata": {},
   "outputs": [],
   "source": [
    "def calAvg(a,b,c):\n",
    "    avg =(a+b+c)/3.0\n",
    "    print(avg)"
   ]
  },
  {
   "cell_type": "code",
   "execution_count": 18,
   "id": "618aad83-5a57-47f9-8f1d-7daa48d37ef5",
   "metadata": {},
   "outputs": [
    {
     "name": "stdout",
     "output_type": "stream",
     "text": [
      "30.0\n"
     ]
    }
   ],
   "source": [
    "calAvg(20,30,40)"
   ]
  },
  {
   "cell_type": "code",
   "execution_count": 19,
   "id": "3fe3fb51-83ec-46bc-8769-b60ae92968f7",
   "metadata": {},
   "outputs": [],
   "source": [
    "def add(arg1,arg2):\n",
    "    total = arg1 + arg2\n",
    "    return total"
   ]
  },
  {
   "cell_type": "code",
   "execution_count": 20,
   "id": "dfb36ee2-74c1-447f-b111-faf41cf8b1ba",
   "metadata": {},
   "outputs": [
    {
     "name": "stdout",
     "output_type": "stream",
     "text": [
      "30\n"
     ]
    }
   ],
   "source": [
    "val = add(10,20)\n",
    "print(val)"
   ]
  },
  {
   "cell_type": "code",
   "execution_count": 21,
   "id": "825c116a-42fd-43b6-b8c3-3585ff622336",
   "metadata": {},
   "outputs": [],
   "source": [
    "calNew = lambda a,b,c:(a+b+c)/3.0"
   ]
  },
  {
   "cell_type": "code",
   "execution_count": 22,
   "id": "1b5a257a-bd52-4927-8d51-8a2db07150ed",
   "metadata": {},
   "outputs": [
    {
     "name": "stdout",
     "output_type": "stream",
     "text": [
      "20.0\n"
     ]
    }
   ],
   "source": [
    "val =calNew(10,20,30)\n",
    "print(val)"
   ]
  },
  {
   "cell_type": "code",
   "execution_count": 24,
   "id": "9ce9e217-66e1-4b9c-a8c2-f221c3f4f00d",
   "metadata": {},
   "outputs": [
    {
     "name": "stdin",
     "output_type": "stream",
     "text": [
      "Enter Student Maths: 55,45,60\n"
     ]
    },
    {
     "name": "stdout",
     "output_type": "stream",
     "text": [
      "53.333333333333336\n"
     ]
    },
    {
     "name": "stdin",
     "output_type": "stream",
     "text": [
      "Do you need another entry(y/n): N\n"
     ]
    },
    {
     "name": "stdout",
     "output_type": "stream",
     "text": [
      "Loop ENDS\n"
     ]
    }
   ],
   "source": [
    "while(True):\n",
    "    maths,phy,chem = eval(input(\"Enter Student Maths:\"))\n",
    "    calAvg(maths,phy,chem)\n",
    "\n",
    "    option = input(\"Do you need another entry(y/n):\")\n",
    "\n",
    "    if(option == 'n' or option =='N'):\n",
    "        break\n",
    "\n",
    "print('Loop ENDS')\n",
    "     "
   ]
  },
  {
   "cell_type": "code",
   "execution_count": 25,
   "id": "e4ddeae8-3520-43a5-8716-59a7ee19d6fb",
   "metadata": {},
   "outputs": [
    {
     "name": "stdin",
     "output_type": "stream",
     "text": [
      "Enter Student Maths: -12,20,60\n"
     ]
    },
    {
     "name": "stdout",
     "output_type": "stream",
     "text": [
      "Marks cannot be NEGATIVE  !\n"
     ]
    },
    {
     "name": "stdin",
     "output_type": "stream",
     "text": [
      "Enter Student Maths: 20,20,20\n"
     ]
    },
    {
     "name": "stdout",
     "output_type": "stream",
     "text": [
      "20.0\n"
     ]
    },
    {
     "name": "stdin",
     "output_type": "stream",
     "text": [
      "Do you need another entry(y/n): n\n"
     ]
    },
    {
     "name": "stdout",
     "output_type": "stream",
     "text": [
      "Loop ENDS\n"
     ]
    }
   ],
   "source": [
    "while(True):\n",
    "    maths,phy,chem = eval(input(\"Enter Student Maths:\"))\n",
    "\n",
    "    if(maths<0 or phy<0 or chem<0):\n",
    "        print('Marks cannot be NEGATIVE  !')\n",
    "        continue\n",
    "        \n",
    "    calAvg(maths,phy,chem)\n",
    "\n",
    "    option = input(\"Do you need another entry(y/n):\")\n",
    "\n",
    "    if(option == 'n' or option =='N'):\n",
    "        break\n",
    "\n",
    "print('Loop ENDS')\n",
    "     "
   ]
  },
  {
   "cell_type": "code",
   "execution_count": 4,
   "id": "f276b765-ea84-47da-9e37-b4f039b9d6f7",
   "metadata": {},
   "outputs": [
    {
     "name": "stdout",
     "output_type": "stream",
     "text": [
      "[[11, 12, 13, 14], [22, 23, 24, 25], [33, 34, 35, 36]]\n"
     ]
    }
   ],
   "source": [
    "import numpy as np\n",
    "array1 = [[11,12,13,14],\n",
    "          [22,23,24,25],\n",
    "          [33,34,35,36]]\n",
    "array1_new = np.array(array1)\n",
    "\n",
    "print(array1)"
   ]
  },
  {
   "cell_type": "code",
   "execution_count": 5,
   "id": "58018f56-6f1b-466d-bd68-360e693cfeb2",
   "metadata": {},
   "outputs": [
    {
     "name": "stdout",
     "output_type": "stream",
     "text": [
      "[[11 12 13 14]\n",
      " [22 23 24 25]\n",
      " [33 34 35 36]]\n"
     ]
    }
   ],
   "source": [
    "print(array1_new)"
   ]
  },
  {
   "cell_type": "code",
   "execution_count": 6,
   "id": "1c652b9e-fdb7-493d-bd38-1ca3cb28c7ff",
   "metadata": {},
   "outputs": [
    {
     "name": "stdout",
     "output_type": "stream",
     "text": [
      "[1 2 3 4]\n"
     ]
    }
   ],
   "source": [
    "x =[1,2,3,4]\n",
    "array2 =np.array(x)\n",
    "print(array2)"
   ]
  },
  {
   "cell_type": "code",
   "execution_count": 7,
   "id": "da1fcf56-94b0-4e42-8116-0cd2a1b37341",
   "metadata": {},
   "outputs": [],
   "source": [
    "array1 =[[11,12,13,14],\n",
    "         [22,23,24,25],\n",
    "         [33,34,35,36]]\n",
    "array1_new = np.array(array1)\n",
    "         "
   ]
  },
  {
   "cell_type": "code",
   "execution_count": 8,
   "id": "a8a67507-cd12-40c1-8291-ea39289c7df9",
   "metadata": {},
   "outputs": [
    {
     "name": "stdout",
     "output_type": "stream",
     "text": [
      "[[11 12 13 14]\n",
      " [22 23 24 25]\n",
      " [33 34 35 36]]\n"
     ]
    }
   ],
   "source": [
    "print(array1_new)"
   ]
  },
  {
   "cell_type": "code",
   "execution_count": 10,
   "id": "866418dd-d998-4ade-b859-d92fe45fee4b",
   "metadata": {},
   "outputs": [
    {
     "name": "stdout",
     "output_type": "stream",
     "text": [
      "(3, 4)\n"
     ]
    }
   ],
   "source": [
    "print(array1_new.shape)"
   ]
  },
  {
   "cell_type": "code",
   "execution_count": 11,
   "id": "2994ef76-eb13-4369-91f5-b5bc69a4baef",
   "metadata": {},
   "outputs": [],
   "source": [
    "array2 = array1_new.reshape(4,3)"
   ]
  },
  {
   "cell_type": "code",
   "execution_count": 12,
   "id": "cdabef10-ba0b-433c-a72d-eed5deecb50e",
   "metadata": {},
   "outputs": [
    {
     "name": "stdout",
     "output_type": "stream",
     "text": [
      "[[11 12 13]\n",
      " [14 22 23]\n",
      " [24 25 33]\n",
      " [34 35 36]]\n"
     ]
    }
   ],
   "source": [
    "print(array2)"
   ]
  },
  {
   "cell_type": "code",
   "execution_count": 13,
   "id": "4e34e152-aaf6-4c6b-bd90-421c107214e7",
   "metadata": {},
   "outputs": [
    {
     "name": "stdout",
     "output_type": "stream",
     "text": [
      "[[11 12]\n",
      " [13 14]\n",
      " [22 23]\n",
      " [24 25]\n",
      " [33 34]\n",
      " [35 36]]\n"
     ]
    }
   ],
   "source": [
    "array2 =array1_new.reshape(6,2)\n",
    "print(array2)"
   ]
  },
  {
   "cell_type": "code",
   "execution_count": 14,
   "id": "415116d3-d4ef-4495-8502-27b6eff9afab",
   "metadata": {},
   "outputs": [
    {
     "name": "stdout",
     "output_type": "stream",
     "text": [
      "[-10  -8  -6  -4  -2   0   2   4   6   8]\n"
     ]
    }
   ],
   "source": [
    "array =np.arange(-10,10,2)\n",
    "print(array)"
   ]
  },
  {
   "cell_type": "code",
   "execution_count": 1,
   "id": "c7c0f580-87e0-4378-9da6-a0c50b3934e4",
   "metadata": {},
   "outputs": [
    {
     "name": "stdout",
     "output_type": "stream",
     "text": [
      "[[158208      0]\n",
      " [     0      0]\n",
      " [     0 289280]]\n"
     ]
    }
   ],
   "source": [
    "import numpy as np\n",
    "\n",
    "x = np.empty((3, 2), dtype=int)  # Fixed dtype\n",
    "print(x)\n"
   ]
  },
  {
   "cell_type": "code",
   "execution_count": 2,
   "id": "4888d840-d03a-4373-8727-d991d0e986ea",
   "metadata": {},
   "outputs": [],
   "source": [
    "array = np.random.randint(0,100,(10,5))"
   ]
  },
  {
   "cell_type": "code",
   "execution_count": 3,
   "id": "d1b0a827-73f7-4ba0-b9a3-3e6326ab34ad",
   "metadata": {},
   "outputs": [
    {
     "name": "stdout",
     "output_type": "stream",
     "text": [
      "[[ 1 95 55 27 23]\n",
      " [60 72 47  3 47]\n",
      " [83 76 72 73 39]\n",
      " [67 37 72 45 77]\n",
      " [98 38 68 96 46]\n",
      " [11 16 97 18 40]\n",
      " [59 56 36 96 34]\n",
      " [63 91 83 78 31]\n",
      " [49 46 21 40 22]\n",
      " [19 20 74 49  8]]\n"
     ]
    }
   ],
   "source": [
    "print(array)"
   ]
  },
  {
   "cell_type": "code",
   "execution_count": 4,
   "id": "bdb42ed3-1888-4f70-a9b6-8e0e8d6ddb29",
   "metadata": {},
   "outputs": [],
   "source": [
    "array1 = np.random.randint(0,100,(4,3))\n",
    "array2 = np.random.randint(0,100,(4,3))"
   ]
  },
  {
   "cell_type": "code",
   "execution_count": 5,
   "id": "21d9f712-4a73-4817-8b1e-49dde2b98b34",
   "metadata": {},
   "outputs": [],
   "source": [
    "array3 = array1 +array2"
   ]
  },
  {
   "cell_type": "code",
   "execution_count": 6,
   "id": "743d920d-1f4d-43ad-8538-bc4923c552f4",
   "metadata": {},
   "outputs": [
    {
     "name": "stdout",
     "output_type": "stream",
     "text": [
      "aray1: [[24 80 79]\n",
      " [ 4 60 43]\n",
      " [23 98 92]\n",
      " [53 40 61]]\n",
      "array2: [[27 44 15]\n",
      " [ 8 59 92]\n",
      " [15 79 56]\n",
      " [88  8 76]]\n",
      "array3: [[ 51 124  94]\n",
      " [ 12 119 135]\n",
      " [ 38 177 148]\n",
      " [141  48 137]]\n"
     ]
    }
   ],
   "source": [
    "print('aray1:',array1)\n",
    "print('array2:',array2)\n",
    "print('array3:',array3)"
   ]
  },
  {
   "cell_type": "code",
   "execution_count": 7,
   "id": "b1783255-c368-489c-870d-3a17b80ef5ca",
   "metadata": {},
   "outputs": [],
   "source": [
    "array1 = np.random.randint(0,100,(4,3))\n",
    "\n",
    "array2 = array1/10"
   ]
  },
  {
   "cell_type": "code",
   "execution_count": 8,
   "id": "176b1e8f-6342-4b6b-b79b-0fa6c880cc00",
   "metadata": {},
   "outputs": [
    {
     "name": "stdout",
     "output_type": "stream",
     "text": [
      "array1: [[59 84 49]\n",
      " [38 96 64]\n",
      " [83 48 58]\n",
      " [72 99  3]]\n",
      "array2: [[5.9 8.4 4.9]\n",
      " [3.8 9.6 6.4]\n",
      " [8.3 4.8 5.8]\n",
      " [7.2 9.9 0.3]]\n"
     ]
    }
   ],
   "source": [
    "print('array1:',array1)\n",
    "print('array2:',array2)"
   ]
  },
  {
   "cell_type": "code",
   "execution_count": 13,
   "id": "a3c3f673-467a-4809-9ea1-17e61fafe27a",
   "metadata": {},
   "outputs": [
    {
     "name": "stdout",
     "output_type": "stream",
     "text": [
      "array1: [[23 28 80]\n",
      " [ 7 62 75]\n",
      " [ 5 57 16]\n",
      " [55 39 67]]\n",
      "array2: [[29 15 55 70 95]\n",
      " [86 48 29 42 13]\n",
      " [89 71  0 74 20]]\n",
      "array4: [[10195  7369  2077  8706  4149]\n",
      " [12210  8406  2183  8644  2971]\n",
      " [ 6471  3947  1928  3928  1536]\n",
      " [10912  7454  4156 10446  7072]]\n"
     ]
    }
   ],
   "source": [
    "array1 = np.random.randint(0,100,(4,3))\n",
    "array2 = np.random.randint(0,100,(3,5))\n",
    "\n",
    "print('array1:',array1)\n",
    "print('array2:',array2)\n",
    "\n",
    "array4 = np.matmul(array1,array2)\n",
    "print('array4:',array4)"
   ]
  },
  {
   "cell_type": "code",
   "execution_count": 14,
   "id": "d69c48d5-69af-4cc2-9bbd-4bd419dc091a",
   "metadata": {},
   "outputs": [
    {
     "name": "stdout",
     "output_type": "stream",
     "text": [
      "[[67 82 73 53 51 94 63]\n",
      " [88 54 11 96 10 23 30]\n",
      " [50 89 68 19 35 28 69]\n",
      " [91 84 59 62 33 74 49]\n",
      " [65 23 77 74 96 31 76]]\n"
     ]
    }
   ],
   "source": [
    "array = np.random.randint(0,100,(5,7))\n",
    "print(array)"
   ]
  },
  {
   "cell_type": "code",
   "execution_count": 15,
   "id": "de1243de-3d19-4abf-866c-b05fcbf434bb",
   "metadata": {},
   "outputs": [
    {
     "name": "stdout",
     "output_type": "stream",
     "text": [
      "96\n"
     ]
    }
   ],
   "source": [
    "print(np.max(array))"
   ]
  },
  {
   "cell_type": "code",
   "execution_count": 16,
   "id": "95539f22-e6a4-4dbe-87cf-caf1f4a293b6",
   "metadata": {},
   "outputs": [
    {
     "name": "stdout",
     "output_type": "stream",
     "text": [
      "10\n"
     ]
    }
   ],
   "source": [
    "print(np.argmax(array))"
   ]
  },
  {
   "cell_type": "code",
   "execution_count": 17,
   "id": "31ecf311-7de6-44a2-b045-876484a5064f",
   "metadata": {},
   "outputs": [
    {
     "name": "stdout",
     "output_type": "stream",
     "text": [
      "[91 89 77 96 96 94 76]\n"
     ]
    }
   ],
   "source": [
    "print(np.max(array,axis=0))"
   ]
  },
  {
   "cell_type": "code",
   "execution_count": 18,
   "id": "8f4ac221-985e-478f-b0f3-5a2b04d38f4f",
   "metadata": {},
   "outputs": [
    {
     "name": "stdout",
     "output_type": "stream",
     "text": [
      "[94 96 89 91 96]\n"
     ]
    }
   ],
   "source": [
    "print(np.max(array,axis=1))"
   ]
  },
  {
   "cell_type": "code",
   "execution_count": 19,
   "id": "a017b75e-791d-4bdf-ac1a-e394fd7f58ab",
   "metadata": {},
   "outputs": [
    {
     "name": "stdout",
     "output_type": "stream",
     "text": [
      "[3 2 4 1 4 0 4]\n"
     ]
    }
   ],
   "source": [
    "print(np.argmax(array,axis=0))"
   ]
  },
  {
   "cell_type": "code",
   "execution_count": 20,
   "id": "fd59b64e-ae5e-4dd6-aac5-a913e5d86bd4",
   "metadata": {},
   "outputs": [
    {
     "name": "stdout",
     "output_type": "stream",
     "text": [
      "19\n"
     ]
    }
   ],
   "source": [
    "print(array[2,3])"
   ]
  },
  {
   "cell_type": "code",
   "execution_count": 21,
   "id": "9f27c4af-acc8-4d03-83b6-92f3bfa071ea",
   "metadata": {},
   "outputs": [
    {
     "name": "stdout",
     "output_type": "stream",
     "text": [
      "[[67 82 73 53]\n",
      " [88 54 11 96]]\n"
     ]
    }
   ],
   "source": [
    "print(array[0:2,0:4])"
   ]
  },
  {
   "cell_type": "code",
   "execution_count": 22,
   "id": "e70cb36f-e017-4b7f-88cf-eab965521305",
   "metadata": {},
   "outputs": [
    {
     "name": "stdout",
     "output_type": "stream",
     "text": [
      "[[67 82 73 53]\n",
      " [88 54 11 96]\n",
      " [50 89 68 19]\n",
      " [91 84 59 62]\n",
      " [65 23 77 74]]\n"
     ]
    }
   ],
   "source": [
    "print(array[:,0:4])"
   ]
  },
  {
   "cell_type": "code",
   "execution_count": 23,
   "id": "4a80d1b4-12ad-40db-98b9-2c7d5c9d3f77",
   "metadata": {},
   "outputs": [
    {
     "data": {
      "image/png": "[encoded data removed]",
      "text/plain": [
       "<Figure size 640x480 with 1 Axes>"
      ]
     },
     "metadata": {},
     "output_type": "display_data"
    }
   ],
   "source": [
    "import matplotlib .pyplot as plt\n",
    "\n",
    "y =[10,22,38,41]\n",
    "#x =[0,1,2,3]\n",
    "\n",
    "plt.plot(y)\n",
    "plt.show()"
   ]
  },
  {
   "cell_type": "code",
   "execution_count": 25,
   "id": "a9a6d34d-2c04-4c19-a624-d22cc25d2902",
   "metadata": {},
   "outputs": [
    {
     "data": {
      "text/plain": [
       "[<matplotlib.lines.Line2D at 0x2684a1d46e0>]"
      ]
     },
     "execution_count": 25,
     "metadata": {},
     "output_type": "execute_result"
    },
    {
     "data": {
      "image/png": "[encoded data removed]",
      "text/plain": [
       "<Figure size 640x480 with 1 Axes>"
      ]
     },
     "metadata": {},
     "output_type": "display_data"
    }
   ],
   "source": [
    "x = [1,2,3,4]\n",
    "y=[1,4,9,16]\n",
    "\n",
    "plt.plot(x,y)"
   ]
  },
  {
   "cell_type": "code",
   "execution_count": 26,
   "id": "b6fc6655-8dce-4a9b-a811-403b78c1a72f",
   "metadata": {},
   "outputs": [
    {
     "data": {
      "text/plain": [
       "<matplotlib.collections.PathCollection at 0x268489646b0>"
      ]
     },
     "execution_count": 26,
     "metadata": {},
     "output_type": "execute_result"
    },
    {
     "data": {
      "image/png": "[encoded data removed]",
      "text/plain": [
       "<Figure size 640x480 with 1 Axes>"
      ]
     },
     "metadata": {},
     "output_type": "display_data"
    }
   ],
   "source": [
    "x = [1,2,3,4]\n",
    "y=[1,4,9,16]\n",
    "\n",
    "plt.scatter(x,y)"
   ]
  },
  {
   "cell_type": "code",
   "execution_count": 28,
   "id": "44151a8e-b265-49d8-8a57-827180f84f6a",
   "metadata": {},
   "outputs": [
    {
     "name": "stdout",
     "output_type": "stream",
     "text": [
      "[ 0  2  4  6  8 10 12 14 16 18 20 22 24 26 28 30 32 34 36 38 40 42 44 46\n",
      " 48 50 52 54 56 58 60 62 64 66 68 70 72 74 76 78 80 82 84 86 88 90 92 94\n",
      " 96 98]\n"
     ]
    }
   ],
   "source": [
    "import numpy as np\n",
    "x =np.arange(0,100,2)\n",
    "\n",
    "print(x)"
   ]
  },
  {
   "cell_type": "code",
   "execution_count": 41,
   "id": "f4ab888d-3129-4e6e-8967-6d0f5dd4e869",
   "metadata": {},
   "outputs": [
    {
     "name": "stdout",
     "output_type": "stream",
     "text": [
      "[  3   7  11  15  19  23  27  31  35  39  43  47  51  55  59  63  67  71\n",
      "  75  79  83  87  91  95  99 103 107 111 115 119 123 127 131 135 139 143\n",
      " 147 151 155 159 163 167 171 175 179 183 187 191 195 199]\n",
      "[   0    4   16   36   64  100  144  196  256  324  400  484  576  676\n",
      "  784  900 1024 1156 1296 1444 1600 1764 1936 2116 2304 2500 2704 2916\n",
      " 3136 3364 3600 3844 4096 4356 4624 4900 5184 5476 5776 6084 6400 6724\n",
      " 7056 7396 7744 8100 8464 8836 9216 9604]\n",
      "[          0          32        1024        7776       32768      100000\n",
      "      248832      537824     1048576     1889568     3200000     5153632\n",
      "     7962624    11881376    17210368    24300000    33554432    45435424\n",
      "    60466176    79235168   102400000   130691232   164916224   205962976\n",
      "   254803968   312500000   380204032   459165024   550731776   656356768\n",
      "   777600000   916132832  1073741824  1252332576  1453933568  1680700000\n",
      "  1934917632 -2075960672 -1759441920 -1407792928 -1018167296  -587568864\n",
      "  -112847872   409302880   982351872  1609932704 -1999119360 -1250894368\n",
      "  -436207616   449273376]\n"
     ]
    }
   ],
   "source": [
    "y1 = 2* x+3\n",
    "y2 = np .power(x,2) # y2 =x^2\n",
    "y3 = np.power(x,5)\n",
    "\n",
    "print(y1)\n",
    "print(y2)\n",
    "print(y3)"
   ]
  },
  {
   "cell_type": "code",
   "execution_count": 43,
   "id": "8dddcb35-73a3-4445-985f-b707751aa3b6",
   "metadata": {},
   "outputs": [
    {
     "data": {
      "image/png": "[encoded data removed]",
      "text/plain": [
       "<Figure size 640x480 with 1 Axes>"
      ]
     },
     "metadata": {},
     "output_type": "display_data"
    }
   ],
   "source": [
    "plt.plot(x,y1,'r--',label ='x vs Y1')\n",
    "plt.plot(x,y2,'g+',label = 'x vs Y2')\n",
    "plt.legend()\n",
    "plt.xlabel('X vals')\n",
    "plt.ylabel('Y vals')\n",
    "plt.savefig('myGraph.png',dpi =300)\n",
    "plt.show()"
   ]
  },
  {
   "cell_type": "code",
   "execution_count": 46,
   "id": "41c74b01-b21e-47da-9eda-9c6084ff5ed4",
   "metadata": {},
   "outputs": [
    {
     "data": {
      "image/png": "[encoded data removed]",
      "text/plain": [
       "<Figure size 1200x500 with 3 Axes>"
      ]
     },
     "metadata": {},
     "output_type": "display_data"
    }
   ],
   "source": [
    "names = ['group_a','goup_b','group_c']\n",
    "values =[1,10,100]\n",
    "\n",
    "plt.figure(figsize=(12,5))\n",
    "\n",
    "plt.subplot(131)\n",
    "plt.bar(names,values)\n",
    "\n",
    "plt.subplot(132)\n",
    "plt.scatter(names,values)\n",
    "\n",
    "plt.subplot(133)\n",
    "plt.plot(names,values)\n",
    "\n",
    "\n",
    "plt.suptitle('Categrical Plotting')\n",
    "plt.savefig('test.png')\n",
    "plt.show()"
   ]
  },
  {
   "cell_type": "code",
   "execution_count": 48,
   "id": "17a865a5-d808-4f54-a94d-846dec808ee6",
   "metadata": {},
   "outputs": [
    {
     "data": {
      "image/png": "[encoded data removed]",
      "text/plain": [
       "<Figure size 1200x500 with 4 Axes>"
      ]
     },
     "metadata": {},
     "output_type": "display_data"
    }
   ],
   "source": [
    "names = ['group_a','goup_b','group_c']\n",
    "values =[1,10,100]\n",
    "\n",
    "plt.figure(figsize=(12,5))\n",
    "\n",
    "plt.subplot(221)\n",
    "plt.bar(names,values)\n",
    "\n",
    "plt.subplot(222)\n",
    "plt.scatter(names,values)\n",
    "\n",
    "plt.subplot(223)\n",
    "plt.plot(names,values)\n",
    "\n",
    "plt.subplot(224)\n",
    "plt.plot(names,values,'r+')\n",
    "\n",
    "plt.suptitle('Categrical Plotting')\n",
    "plt.savefig('test.png')\n",
    "plt.show()"
   ]
  },
  {
   "cell_type": "code",
   "execution_count": 52,
   "id": "ecec3b31-3125-4dd5-908c-4ed8171cd25b",
   "metadata": {},
   "outputs": [
    {
     "data": {
      "image/png": "[encoded data removed]",
      "text/plain": [
       "<Figure size 640x480 with 2 Axes>"
      ]
     },
     "metadata": {},
     "output_type": "display_data"
    }
   ],
   "source": [
    "def f(t):\n",
    "    return np.exp(-t) * np. cos(2 *np.pi*t)\n",
    "\n",
    "t1 =np.arange(0.0,5.0,0.1)\n",
    "t2 = np .arange(0.0,5.0,0.02)\n",
    "\n",
    "plt.figure()\n",
    "plt.subplot(211)\n",
    "plt.plot(t1,f(t1),'bo',t2,f(t2),'k')\n",
    "\n",
    "plt.subplot(212)\n",
    "plt.plot(t2,np.cos(2*np.pi*t2),'r--')\n",
    "plt.show()"
   ]
  },
  {
   "cell_type": "code",
   "execution_count": 58,
   "id": "03018f4b-0076-4760-aecc-9c3ed38df192",
   "metadata": {},
   "outputs": [
    {
     "data": {
      "image/png": "[encoded data removed]",
      "text/plain": [
       "<Figure size 640x480 with 1 Axes>"
      ]
     },
     "metadata": {},
     "output_type": "display_data"
    }
   ],
   "source": [
    "import numpy as np\n",
    "import matplotlib.pyplot as plt\n",
    "\n",
    "t = np.arange(0.0, 5.0, 0.01)\n",
    "s = np.cos(2 * np.pi * t)\n",
    "\n",
    "plt.plot(t, s, lw=2)\n",
    "\n",
    "# Fixed 'shink' to 'shrink'\n",
    "plt.annotate('local max',\n",
    "             xy=(2, 1), xytext=(3, 1.5),\n",
    "             arrowprops=dict(facecolor='black', shrink=0.05)\n",
    "            )\n",
    "\n",
    "plt.ylim(-2, 2)\n",
    "plt.show()\n"
   ]
  },
  {
   "cell_type": "code",
   "execution_count": null,
   "id": "77d3b2d0-31c8-47fa-ace8-04aa4b899b15",
   "metadata": {},
   "outputs": [],
   "source": []
  }
 ],
 "metadata": {
  "kernelspec": {
   "display_name": "Python 3 (ipykernel)",
   "language": "python",
   "name": "python3"
  },
  "language_info": {
   "codemirror_mode": {
    "name": "ipython",
    "version": 3
   },
   "file_extension": ".py",
   "mimetype": "text/x-python",
   "name": "python",
   "nbconvert_exporter": "python",
   "pygments_lexer": "ipython3",
   "version": "3.12.7"
  }
 },
 "nbformat": 4,
 "nbformat_minor": 5
}
