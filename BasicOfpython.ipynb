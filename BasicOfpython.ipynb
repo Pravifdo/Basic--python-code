{
 "cells": [
  {
   "cell_type": "code",
   "execution_count": 1,
   "id": "2b14ab1d-3fa2-44ba-a351-086fbf620a36",
   "metadata": {},
   "outputs": [
    {
     "name": "stdout",
     "output_type": "stream",
     "text": [
      "praveen\n"
     ]
    }
   ],
   "source": [
    "print(\"praveen\")"
   ]
  },
  {
   "cell_type": "code",
   "execution_count": 2,
   "id": "95399ff1-19f4-4bc2-9e18-3abae2ea138e",
   "metadata": {},
   "outputs": [
    {
     "name": "stdout",
     "output_type": "stream",
     "text": [
      "6\n"
     ]
    }
   ],
   "source": [
    "print(3+3)"
   ]
  },
  {
   "cell_type": "code",
   "execution_count": 4,
   "id": "f87e7a13-e668-41e0-99ec-eba5a8399296",
   "metadata": {},
   "outputs": [
    {
     "name": "stdout",
     "output_type": "stream",
     "text": [
      " efrh\n"
     ]
    },
    {
     "name": "stdout",
     "output_type": "stream",
     "text": [
      "x: efrh\n"
     ]
    }
   ],
   "source": [
    "x = input()\n",
    "print(\"x:\", x)"
   ]
  },
  {
   "cell_type": "code",
   "execution_count": 5,
   "id": "6ebea7a7-de90-4580-a298-0c155da45c98",
   "metadata": {},
   "outputs": [
    {
     "name": "stdout",
     "output_type": "stream",
     "text": [
      "Enter the valuer of number: 5\n"
     ]
    },
    {
     "name": "stdout",
     "output_type": "stream",
     "text": [
      "x: 5\n"
     ]
    }
   ],
   "source": [
    "x = input(\"Enter the valuer of number:\")\n",
    "print(\"x:\" ,x)"
   ]
  },
  {
   "cell_type": "code",
   "execution_count": 10,
   "id": "c80ee2e3-966e-455a-b37a-9cf11ff731ed",
   "metadata": {},
   "outputs": [
    {
     "name": "stdout",
     "output_type": "stream",
     "text": [
      "x 5\n",
      "y 5\n"
     ]
    },
    {
     "name": "stdout",
     "output_type": "stream",
     "text": [
      "x+y = 10\n"
     ]
    }
   ],
   "source": [
    "x =input(\"x\")\n",
    "y =input(\"y\")\n",
    "x =int(x)\n",
    "y =int(y)\n",
    "print(\"x+y =\",x+y)"
   ]
  },
  {
   "cell_type": "code",
   "execution_count": 8,
   "id": "a62f11bc-270a-4486-bf05-6d9ce3ab2783",
   "metadata": {},
   "outputs": [
    {
     "name": "stdout",
     "output_type": "stream",
     "text": [
      "Enter the number of x : 1.2\n",
      "Enter the number of y : 2\n"
     ]
    },
    {
     "name": "stdout",
     "output_type": "stream",
     "text": [
      "colection x+y 3.2\n"
     ]
    }
   ],
   "source": [
    "x = input(\"Enter the number of x :\")\n",
    "y = input (\"Enter the number of y :\")\n",
    "\n",
    "x =float(x)\n",
    "y =float(y)\n",
    "\n",
    "print(\"colection x+y =\",x+y)"
   ]
  },
  {
   "cell_type": "code",
   "execution_count": 11,
   "id": "5e59c230-59f1-4836-898e-46735159e3b9",
   "metadata": {},
   "outputs": [
    {
     "name": "stdout",
     "output_type": "stream",
     "text": [
      "Enter the number of x : 5\n",
      "Enter the number of y : 1.02\n"
     ]
    },
    {
     "name": "stdout",
     "output_type": "stream",
     "text": [
      "colection x+y = 6.02\n"
     ]
    }
   ],
   "source": [
    "x = input(\"Enter the number of x :\")\n",
    "y = input (\"Enter the number of y :\")\n",
    "\n",
    "x =eval(x)\n",
    "y =eval(y)\n",
    "\n",
    "print(\"colection x+y =\",x+y)"
   ]
  },
  {
   "cell_type": "code",
   "execution_count": 12,
   "id": "f3117514-f74e-4fb0-beb4-1dc612f0cbe9",
   "metadata": {},
   "outputs": [
    {
     "name": "stdout",
     "output_type": "stream",
     "text": [
      "Enter the number of x : 4.2\n",
      "Enter the number of y : 3.0\n"
     ]
    },
    {
     "name": "stdout",
     "output_type": "stream",
     "text": [
      "colection x+y = 7.2\n"
     ]
    }
   ],
   "source": [
    "x = eval(input(\"Enter the number of x :\"))\n",
    "y = eval(input (\"Enter the number of y :\"))\n",
    "\n",
    "print(\"colection x+y =\",x+y)"
   ]
  },
  {
   "cell_type": "code",
   "execution_count": 13,
   "id": "e96e4da1-6504-48ce-9c30-9feeb816f323",
   "metadata": {},
   "outputs": [
    {
     "name": "stdout",
     "output_type": "stream",
     "text": [
      "basic calalution\n"
     ]
    }
   ],
   "source": [
    "print (\"basic calalution\")"
   ]
  },
  {
   "cell_type": "code",
   "execution_count": null,
   "id": "fdd50f8e-3c35-49f9-bc23-d1b7414ba62c",
   "metadata": {},
   "outputs": [
    {
     "name": "stdout",
     "output_type": "stream",
     "text": [
      "Enter the value 1 : 8\n",
      "Enter the value 2:  2\n"
     ]
    },
    {
     "name": "stdout",
     "output_type": "stream",
     "text": [
      "valu1 + valu2 10\n",
      "valu1 - valu2 6\n",
      "valu1 / valu2 4.0\n",
      "valu1 * valu2 16\n"
     ]
    }
   ],
   "source": [
    "valu1=eval(input(\"Enter the value 1 :\"))\n",
    "valu2=eval(input(\"Enter the value 2: \"))\n",
    "print(\"valu1 + valu2\",valu1 + valu2)\n",
    "print(\"valu1 - valu2\",valu1 - valu2)\n",
    "print(\"valu1 / valu2\",valu1 / valu2)\n",
    "print(\"valu1 * valu2\",valu1 * valu2)\n"
   ]
  },
  {
   "cell_type": "code",
   "execution_count": 1,
   "id": "4920e991-46da-4317-89f7-adcf7b1edc78",
   "metadata": {},
   "outputs": [
    {
     "name": "stdout",
     "output_type": "stream",
     "text": [
      "['physics', 'chmistry', 1997, 200]\n"
     ]
    }
   ],
   "source": [
    "mylist = [\"physics\",\"chmistry\",1997,200]\n",
    "print(mylist)"
   ]
  },
  {
   "cell_type": "code",
   "execution_count": 3,
   "id": "b0f22eab-178e-42e6-a97e-38840152d103",
   "metadata": {},
   "outputs": [
    {
     "name": "stdout",
     "output_type": "stream",
     "text": [
      "['physics', 'chmistry', 2001, 2001]\n"
     ]
    }
   ],
   "source": [
    "mylist[3] = 2001\n",
    "print(mylist)"
   ]
  },
  {
   "cell_type": "code",
   "execution_count": 4,
   "id": "5d55f76d-965b-4929-b450-23a562ca596f",
   "metadata": {},
   "outputs": [
    {
     "name": "stdout",
     "output_type": "stream",
     "text": [
      "4\n"
     ]
    }
   ],
   "source": [
    "x = len(mylist)\n",
    "print(x)"
   ]
  },
  {
   "cell_type": "code",
   "execution_count": 6,
   "id": "47a3797a-d673-489f-afc8-a311764b3f93",
   "metadata": {},
   "outputs": [
    {
     "name": "stdout",
     "output_type": "stream",
     "text": [
      "python\n",
      "400\n"
     ]
    }
   ],
   "source": [
    "list1 =['c++','java','python']\n",
    "list2 =[200,300,400]\n",
    "print(max(list1))\n",
    "print(max(list2))"
   ]
  },
  {
   "cell_type": "code",
   "execution_count": 9,
   "id": "016a0b6d-cd2f-4e78-ba55-cfc71ebe944f",
   "metadata": {},
   "outputs": [
    {
     "name": "stdin",
     "output_type": "stream",
     "text": [
      "Enter amount 200\n"
     ]
    },
    {
     "name": "stdout",
     "output_type": "stream",
     "text": [
      "Discount 10.0\n",
      "Net payable: 190.0\n"
     ]
    }
   ],
   "source": [
    "amout = eval(input(\"Enter amount\"))\n",
    "\n",
    "if amout<1000:\n",
    "    discount = amout * 0.05\n",
    "    print(\"Discount\",discount)\n",
    "else:\n",
    "    discount = amout *0.10\n",
    "    print(\"Discount\",discount)\n",
    "print(\"Net payable:\",amout-discount)"
   ]
  },
  {
   "cell_type": "code",
   "execution_count": null,
   "id": "9aebd397-abf0-4b49-b17d-bd0578e8c319",
   "metadata": {},
   "outputs": [],
   "source": []
  }
 ],
 "metadata": {
  "kernelspec": {
   "display_name": "Python 3 (ipykernel)",
   "language": "python",
   "name": "python3"
  },
  "language_info": {
   "codemirror_mode": {
    "name": "ipython",
    "version": 3
   },
   "file_extension": ".py",
   "mimetype": "text/x-python",
   "name": "python",
   "nbconvert_exporter": "python",
   "pygments_lexer": "ipython3",
   "version": "3.12.7"
  }
 },
 "nbformat": 4,
 "nbformat_minor": 5
}
